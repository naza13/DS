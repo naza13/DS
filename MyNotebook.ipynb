{
 "cells": [
  {
   "cell_type": "markdown",
   "id": "3cb6d92a-d439-4ce4-be09-57ebe367e2b1",
   "metadata": {},
   "source": [
    "# 2) MyNotebook"
   ]
  },
  {
   "cell_type": "markdown",
   "id": "c55ccd92-f39b-425a-bb7c-282deb00a6d1",
   "metadata": {},
   "source": [
    "## 3) This is my first markdown for my new notebook"
   ]
  },
  {
   "cell_type": "markdown",
   "id": "94555948-889d-4ee5-8f35-a1a882ad6276",
   "metadata": {},
   "source": [
    "4) Data science languages:\n",
    " - Python;\n",
    " - R;\n",
    " - Java;\n",
    " - Julia;\n",
    " - SQL;\n",
    " - SAS;\n",
    " - Javascript;\n",
    " - Swift;\n"
   ]
  },
  {
   "cell_type": "markdown",
   "id": "84d98b6b-8951-455f-9c6d-ba1eba831aff",
   "metadata": {},
   "source": [
    "5) Data Science libraries:\n",
    " - Panda;\n",
    " - Numpy;\n",
    " - Matplotlib;\n",
    " - PyTorch;\n",
    " - SciKitlearn\n",
    " - "
   ]
  },
  {
   "cell_type": "markdown",
   "id": "53038122-1efd-449d-ac91-d11e1c606cd7",
   "metadata": {},
   "source": [
    "6) Data science tools:\n",
    "   - data management tools(sql, nosql);\n",
    "   - data visualization tools;\n",
    "   - ETL;\n",
    "   - git"
   ]
  },
  {
   "cell_type": "markdown",
   "id": "9df89749-6025-4d28-a154-6160dd4785be",
   "metadata": {},
   "source": [
    "7) In the next cells I'll present arithmetic operations. "
   ]
  },
  {
   "cell_type": "code",
   "execution_count": 2,
   "id": "772c48a2-e2ca-4b66-8b2e-b54b66ff4411",
   "metadata": {},
   "outputs": [
    {
     "data": {
      "text/plain": [
       "15"
      ]
     },
     "execution_count": 2,
     "metadata": {},
     "output_type": "execute_result"
    }
   ],
   "source": [
    "(3*3) + (2*3)"
   ]
  },
  {
   "cell_type": "code",
   "execution_count": 13,
   "id": "d6b982f5-0596-4e99-95e2-f7656ff16e9a",
   "metadata": {},
   "outputs": [
    {
     "name": "stdin",
     "output_type": "stream",
     "text": [
      "Give me a number of minutes and I'll convert it to hours 55\n"
     ]
    },
    {
     "name": "stdout",
     "output_type": "stream",
     "text": [
      "result: h 0 mins: 55\n"
     ]
    }
   ],
   "source": [
    "import math;\n",
    "x = input(\"Give me a number of minutes and I'll convert it to hours\")\n",
    "x_int = int(x)\n",
    "h = math.floor(x_int/60)\n",
    "m = x_int % 60\n",
    "print(\"result: h\",h,'mins:',m)"
   ]
  },
  {
   "cell_type": "markdown",
   "id": "9db1c0e0-7880-47ac-961a-8a206dbaa5cd",
   "metadata": {},
   "source": [
    "Objective list"
   ]
  },
  {
   "cell_type": "markdown",
   "id": "582ea6ea-2a75-4b27-bff1-68ca37372182",
   "metadata": {},
   "source": [
    "Nazareno De Tommaso"
   ]
  }
 ],
 "metadata": {
  "kernelspec": {
   "display_name": "Python 3 (ipykernel)",
   "language": "python",
   "name": "python3"
  },
  "language_info": {
   "codemirror_mode": {
    "name": "ipython",
    "version": 3
   },
   "file_extension": ".py",
   "mimetype": "text/x-python",
   "name": "python",
   "nbconvert_exporter": "python",
   "pygments_lexer": "ipython3",
   "version": "3.11.9"
  }
 },
 "nbformat": 4,
 "nbformat_minor": 5
}
